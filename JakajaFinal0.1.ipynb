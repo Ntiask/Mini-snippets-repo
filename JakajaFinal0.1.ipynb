{
 "cells": [
  {
   "cell_type": "code",
   "execution_count": 2,
   "metadata": {},
   "outputs": [],
   "source": [
    "import pandas as pd\n",
    "import numpy as np"
   ]
  },
  {
   "cell_type": "code",
   "execution_count": 3,
   "metadata": {},
   "outputs": [],
   "source": [
    "### Luetaan CSV tiedosto ###"
   ]
  },
  {
   "cell_type": "code",
   "execution_count": 25,
   "metadata": {
    "scrolled": true
   },
   "outputs": [
    {
     "name": "stdout",
     "output_type": "stream",
     "text": [
      "SQL Server Enterprise asennuksia on 37 kpl jotka kuluttavat SQL Server Enterprise lisenssejä 144 Corea\n"
     ]
    }
   ],
   "source": [
    "###LUETAAN INSTALLED APPLICATION ###\n",
    "df = pd.read_csv(r\"C:\\Users\\Niko\\AppData\\Local\\Programs\\Python\\Python37-32\\Scripts\\Fortum Datat\\AllinstMScommercial.csv\")\n",
    "### OTETAAN INSTALLED APPLICATIONISTA SQL:T DF1 MUUTTUJAAN ###\n",
    "df1 = df[df['Application - Product'].str.contains(\"SQL\") & df['Inventory device - Status'].str.contains(\"Active\") & df['Application - Edition'].str.contains(\"Enterprise\") ]\n",
    "### LUETAAN LICENSE CONSUMPTION DFLICENSE MUUTTUJAAN ###\n",
    "sqllicense = pd.read_csv(r\"C:\\Users\\Niko\\AppData\\Local\\Programs\\Python\\Python37-32\\Scripts\\Fortum Datat\\SQL Ent lic consumption.csv\")\n",
    "### YHDISTETÄÄN SQL DATAFRAME ja LICENSE CONS DATAFRAME ###\n",
    "merged_SQL = pd.merge(left=df1, right=sqllicense, how='left', left_on='Inventory device - Inventory device name', right_on='Device')\n",
    "###TULOSTETAAN YHDISTETTY TAULUKKO SQL SERVER LIITTEESEEN ###\n",
    "with pd.ExcelWriter('SQL Servers Liite.xlsx', index=0) as writer:\n",
    "    merged_SQL.to_excel(writer, sheet_name='All SQL installations')\n",
    "    \n",
    "summa = sqllicense['Calculated consumption'].sum()\n",
    "print('SQL Server Enterprise asennuksia on', len(sqllicense['Device']), 'kpl jotka kuluttavat SQL Server Enterprise lisenssejä', summa, 'Corea')\n",
    "\n",
    "\n",
    "### Tämä antaa vain 5 exemption reasonia  koska exemption reasoneita on myös sellaisilla laitteilla jolla ei ole SQL asennettu ###"
   ]
  },
  {
   "cell_type": "code",
   "execution_count": 5,
   "metadata": {
    "scrolled": true
   },
   "outputs": [],
   "source": [
    "### Kaikki SQL:ät\n",
    "df1 = df[df['Application - Product'].str.contains(\"SQL\") & df['Inventory device - Status'].str.contains(\"Active\")]\n",
    "print('SQL Server rivejä oli:', len(df1))\n",
    "## tähän lisenssin allokaatiot sekä exemption reasonit  laitteen perusteella  for loop laitteen mukaan ja np.where?\n",
    "\n",
    "### Kaikki Unknown componentit\n",
    "df2 = merged_left[df['Application - Product'].str.contains(\"Unknown\") & df['Inventory device - Status'].str.contains(\"Active\")]\n",
    "print('Unknown componentteja oli:', len(df2))\n",
    "## tähän lisenssin allokaatiot sekä exemption reasonit  laitteen perusteella  for loop laitteen mukaan ja np.where?\n",
    "\n",
    "## Kaikki Enterprise:t\n",
    "df3 = merged_left[df['Application - Product'].str.contains(\"SQL\") & df['Inventory device - Status'].str.contains(\"Active\") & df['Application - Edition'].str.contains(\"Enterprise\")]\n",
    "print('Enterprise asennuksia oli:', len(df3),)\n",
    "## tähän lisenssin allokaatiot sekä exemption reasonit  laitteen perusteella  for loop laitteen mukaan ja np.where?\n",
    "\n",
    "### Kaikki Standardit\n",
    "df4 = merged_left[df['Application - Product'].str.contains(\"SQL\") & df['Inventory device - Status'].str.contains(\"Active\") & df['Application - Edition'].str.contains(\"Standard\")]\n",
    "print('Standard asennuksia oli:', len(df4))\n",
    "## tähän lisenssin allokaatiot sekä exemption reasonit  laitteen perusteella  for loop laitteen mukaan ja np.where?\n",
    "\n",
    "\n",
    "with pd.ExcelWriter('SQL Servers Liite.xlsx', index=0) as writer:  \n",
    "    merged_SQL.to_excel(writer, sheet_name='All SQL Rows')\n",
    "    df2.to_excel(writer, sheet_name='Unknown Components')\n",
    "    df3.to_excel(writer, sheet_name='SQL Standard Servers')\n",
    "    df4.to_excel(writer, sheet_name='SQL Enterprise Servers')\n"
   ]
  },
  {
   "cell_type": "code",
   "execution_count": 6,
   "metadata": {},
   "outputs": [],
   "source": [
    "##df1 = df[df['Application - Product'].str.contains(\"Windows Server\") & df['Inventory device - Status'].str.contains(\"Active\")]\n",
    "##print('Windows Server Enterprise rivejä oli ', len(df1))\n",
    "##df1.head()\n",
    "\n",
    "##df1.to_csv(\"Windows Server.csv\", index=0)\n"
   ]
  },
  {
   "cell_type": "code",
   "execution_count": 32,
   "metadata": {},
   "outputs": [],
   "source": []
  },
  {
   "cell_type": "code",
   "execution_count": null,
   "metadata": {},
   "outputs": [],
   "source": []
  }
 ],
 "metadata": {
  "kernelspec": {
   "display_name": "Python 3",
   "language": "python",
   "name": "python3"
  },
  "language_info": {
   "codemirror_mode": {
    "name": "ipython",
    "version": 3
   },
   "file_extension": ".py",
   "mimetype": "text/x-python",
   "name": "python",
   "nbconvert_exporter": "python",
   "pygments_lexer": "ipython3",
   "version": "3.7.2"
  }
 },
 "nbformat": 4,
 "nbformat_minor": 4
}
